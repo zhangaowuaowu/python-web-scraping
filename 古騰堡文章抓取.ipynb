{
 "cells": [
  {
   "cell_type": "code",
   "execution_count": null,
   "id": "4b9ad5c0",
   "metadata": {},
   "outputs": [],
   "source": [
    "# 匯入套件\n",
    "import requests as req \n",
    "from bs4 import BeautifulSoup as bs\n",
    "import re #正則表達,因只想抓取中文內容\n",
    "import os\n",
    "from fake_useragent import UserAgent\n",
    "ua = UserAgent(cache=True)"
   ]
  },
  {
   "cell_type": "code",
   "execution_count": null,
   "id": "c5a6dbaf",
   "metadata": {},
   "outputs": [],
   "source": [
    "folderPath = 'gutenberg'\n",
    "if not os.path.exists(folderPath):\n",
    "    os.makedirs(folderPath) #確定放置抓取內容資料夾,不存在則自動創建\n",
    "\n",
    "url = 'https://www.gutenberg.org/browse/languages/zh' #目標網址\n",
    "\n",
    "my_headers = {\n",
    "    'user-agent':ua.random\n",
    "} #user-agent自動random\n",
    "\n",
    "res = req.get(url, headers = my_headers) #創建requests\n",
    "\n",
    "soup = bs(res.text, 'lxml') #beautifulsoup解析網站\n",
    "\n",
    "list1 = [] #設一個空list放網址\n",
    "\n",
    "prefix = 'https://www.gutenberg.org/'"
   ]
  },
  {
   "cell_type": "code",
   "execution_count": null,
   "id": "e7af20ab",
   "metadata": {},
   "outputs": [],
   "source": [
    "for a in soup.select('li.pgdbetext > a'):\n",
    "    list1.append(prefix + a['href'])\n",
    "    \n",
    "for index, link in enumerate(list1):\n",
    "    res1 = req.get(link, headers = my_headers)\n",
    "    soup1 = bs(res1.text, 'lxml')\n",
    "    try:\n",
    "        b = soup1.select_one('a[href$=\"html.noimages\"]')\n",
    "        res2 = req.get(prefix + b['href'])\n",
    "    except:\n",
    "        continue\n",
    "    res2.encoding = 'UTF-8'\n",
    "    soup2 = bs(res2.text, 'lxml')\n",
    "    txt = soup2.select_one('body') \n",
    "    regex01 = r'[\\u4E00-\\u9FFF]+\\S'\n",
    "    match01 = re.findall(regex01, txt.get_text())\n",
    "    str01 = \"\".join(match01) \n",
    "    #抓取文章內文設為字串str01\n",
    "\n",
    "    regex02 = r'[\\u4E00-\\u9FFF]+'\n",
    "    txt2 = soup1.select_one('h1')\n",
    "    match02 = re.findall(regex02, txt2.get_text())\n",
    "    str02 = \"\".join(match02)\n",
    "    #抓取文章標題設為字串str02\n",
    "\n",
    "    with open(f'./{folderPath}/{str02}.txt' , 'w' , encoding='UTF-8') as f:\n",
    "        f.write(str01)\n",
    "    #以標題為檔案名稱儲存文章至資料夾"
   ]
  },
  {
   "cell_type": "code",
   "execution_count": null,
   "id": "afe45b7b",
   "metadata": {},
   "outputs": [],
   "source": []
  }
 ],
 "metadata": {
  "kernelspec": {
   "display_name": "Python 3 (ipykernel)",
   "language": "python",
   "name": "python3"
  },
  "language_info": {
   "codemirror_mode": {
    "name": "ipython",
    "version": 3
   },
   "file_extension": ".py",
   "mimetype": "text/x-python",
   "name": "python",
   "nbconvert_exporter": "python",
   "pygments_lexer": "ipython3",
   "version": "3.9.12"
  }
 },
 "nbformat": 4,
 "nbformat_minor": 5
}
